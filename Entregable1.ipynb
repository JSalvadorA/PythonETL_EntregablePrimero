{
 "cells": [
  {
   "cell_type": "code",
   "execution_count": 4,
   "metadata": {},
   "outputs": [],
   "source": [
    "import polars as pl\n",
    "from polars import Config"
   ]
  },
  {
   "cell_type": "markdown",
   "metadata": {},
   "source": [
    "## 2 Tranformacion a realizar\n",
    "### BASE TICKETS"
   ]
  },
  {
   "cell_type": "code",
   "execution_count": 57,
   "metadata": {},
   "outputs": [
    {
     "data": {
      "text/html": [
       "<div><style>\n",
       ".dataframe > thead > tr,\n",
       ".dataframe > tbody > tr {\n",
       "  text-align: right;\n",
       "  white-space: pre-wrap;\n",
       "}\n",
       "</style>\n",
       "<small>shape: (5, 7)</small><table border=\"1\" class=\"dataframe\"><thead><tr><th>Numero Ticket</th><th>Ubicacion</th><th>Service Desk</th><th>Estado</th><th>Fecha Creacion</th><th>Fecha Termino</th><th>Fecha Cierre</th></tr><tr><td>str</td><td>str</td><td>str</td><td>str</td><td>date</td><td>date</td><td>date</td></tr></thead><tbody><tr><td>&quot;WO0000004122687&quot;</td><td>&quot;AREQUIPA - 215000&quot;</td><td>&quot;Zona Norte&quot;</td><td>&quot;Cerrado&quot;</td><td>2022-06-01</td><td>2022-06-14</td><td>2022-06-14</td></tr><tr><td>&quot;WO0000004122649&quot;</td><td>&quot;METRO AV. WIESSE - 191106&quot;</td><td>&quot;Zona Centro&quot;</td><td>&quot;Cerrado&quot;</td><td>2022-06-01</td><td>2022-06-17</td><td>2022-06-17</td></tr><tr><td>&quot;WO0000004122502&quot;</td><td>&quot;NICOLAS AYLLON - 191027&quot;</td><td>&quot;Zona Centro&quot;</td><td>&quot;Cerrado&quot;</td><td>2022-06-01</td><td>2022-06-08</td><td>2022-06-08</td></tr><tr><td>&quot;WO0000004122513&quot;</td><td>&quot;JAUREGUI - 405005&quot;</td><td>&quot;Zona Norte&quot;</td><td>&quot;Cerrado&quot;</td><td>2022-06-01</td><td>2022-06-18</td><td>2022-06-18</td></tr><tr><td>&quot;WO0000004122741&quot;</td><td>&quot;CANTO GRANDE - 191096&quot;</td><td>&quot;Zona Centro&quot;</td><td>&quot;Cerrado&quot;</td><td>2022-06-01</td><td>2022-06-08</td><td>2022-06-08</td></tr></tbody></table></div>"
      ],
      "text/plain": [
       "shape: (5, 7)\n",
       "┌──────────────┬──────────────┬──────────────┬─────────┬──────────────┬──────────────┬─────────────┐\n",
       "│ Numero       ┆ Ubicacion    ┆ Service Desk ┆ Estado  ┆ Fecha        ┆ Fecha        ┆ Fecha       │\n",
       "│ Ticket       ┆ ---          ┆ ---          ┆ ---     ┆ Creacion     ┆ Termino      ┆ Cierre      │\n",
       "│ ---          ┆ str          ┆ str          ┆ str     ┆ ---          ┆ ---          ┆ ---         │\n",
       "│ str          ┆              ┆              ┆         ┆ date         ┆ date         ┆ date        │\n",
       "╞══════════════╪══════════════╪══════════════╪═════════╪══════════════╪══════════════╪═════════════╡\n",
       "│ WO0000004122 ┆ AREQUIPA -   ┆ Zona Norte   ┆ Cerrado ┆ 2022-06-01   ┆ 2022-06-14   ┆ 2022-06-14  │\n",
       "│ 687          ┆ 215000       ┆              ┆         ┆              ┆              ┆             │\n",
       "│ WO0000004122 ┆ METRO AV.    ┆ Zona Centro  ┆ Cerrado ┆ 2022-06-01   ┆ 2022-06-17   ┆ 2022-06-17  │\n",
       "│ 649          ┆ WIESSE -     ┆              ┆         ┆              ┆              ┆             │\n",
       "│              ┆ 191106       ┆              ┆         ┆              ┆              ┆             │\n",
       "│ WO0000004122 ┆ NICOLAS      ┆ Zona Centro  ┆ Cerrado ┆ 2022-06-01   ┆ 2022-06-08   ┆ 2022-06-08  │\n",
       "│ 502          ┆ AYLLON -     ┆              ┆         ┆              ┆              ┆             │\n",
       "│              ┆ 191027       ┆              ┆         ┆              ┆              ┆             │\n",
       "│ WO0000004122 ┆ JAUREGUI -   ┆ Zona Norte   ┆ Cerrado ┆ 2022-06-01   ┆ 2022-06-18   ┆ 2022-06-18  │\n",
       "│ 513          ┆ 405005       ┆              ┆         ┆              ┆              ┆             │\n",
       "│ WO0000004122 ┆ CANTO GRANDE ┆ Zona Centro  ┆ Cerrado ┆ 2022-06-01   ┆ 2022-06-08   ┆ 2022-06-08  │\n",
       "│ 741          ┆ - 191096     ┆              ┆         ┆              ┆              ┆             │\n",
       "└──────────────┴──────────────┴──────────────┴─────────┴──────────────┴──────────────┴─────────────┘"
      ]
     },
     "execution_count": 57,
     "metadata": {},
     "output_type": "execute_result"
    }
   ],
   "source": [
    "# Importando la base “Tickets Historico.txt”\n",
    "historico = pl.read_csv(\n",
    "    source= './Tickets/Tickets Historico.txt',\n",
    "    separator=';',\n",
    "    columns= [ 'Numero Ticket', 'Ubicacion', 'Service Desk', 'Estado', 'Fecha Creacion', 'Fecha Termino', 'Fecha Cierre'],\n",
    "    try_parse_dates=True,\n",
    "    ignore_errors=True\n",
    ")\n",
    "\n",
    "historico.head() "
   ]
  },
  {
   "cell_type": "code",
   "execution_count": 58,
   "metadata": {},
   "outputs": [
    {
     "data": {
      "text/html": [
       "<div><style>\n",
       ".dataframe > thead > tr,\n",
       ".dataframe > tbody > tr {\n",
       "  text-align: right;\n",
       "  white-space: pre-wrap;\n",
       "}\n",
       "</style>\n",
       "<small>shape: (5, 7)</small><table border=\"1\" class=\"dataframe\"><thead><tr><th>TicketID</th><th>Ubicacion</th><th>Service Desk</th><th>Estado</th><th>Fecha Creacion</th><th>Fecha Termino</th><th>Fecha Cierre</th></tr><tr><td>str</td><td>str</td><td>str</td><td>str</td><td>date</td><td>date</td><td>date</td></tr></thead><tbody><tr><td>&quot;WO0000004122687&quot;</td><td>&quot;AREQUIPA - 215000&quot;</td><td>&quot;Zona Norte&quot;</td><td>&quot;Cerrado&quot;</td><td>2022-06-01</td><td>2022-06-14</td><td>2022-06-14</td></tr><tr><td>&quot;WO0000004122649&quot;</td><td>&quot;METRO AV. WIESSE - 191106&quot;</td><td>&quot;Zona Centro&quot;</td><td>&quot;Cerrado&quot;</td><td>2022-06-01</td><td>2022-06-17</td><td>2022-06-17</td></tr><tr><td>&quot;WO0000004122502&quot;</td><td>&quot;NICOLAS AYLLON - 191027&quot;</td><td>&quot;Zona Centro&quot;</td><td>&quot;Cerrado&quot;</td><td>2022-06-01</td><td>2022-06-08</td><td>2022-06-08</td></tr><tr><td>&quot;WO0000004122513&quot;</td><td>&quot;JAUREGUI - 405005&quot;</td><td>&quot;Zona Norte&quot;</td><td>&quot;Cerrado&quot;</td><td>2022-06-01</td><td>2022-06-18</td><td>2022-06-18</td></tr><tr><td>&quot;WO0000004122741&quot;</td><td>&quot;CANTO GRANDE - 191096&quot;</td><td>&quot;Zona Centro&quot;</td><td>&quot;Cerrado&quot;</td><td>2022-06-01</td><td>2022-06-08</td><td>2022-06-08</td></tr></tbody></table></div>"
      ],
      "text/plain": [
       "shape: (5, 7)\n",
       "┌──────────────┬──────────────┬──────────────┬─────────┬──────────────┬──────────────┬─────────────┐\n",
       "│ TicketID     ┆ Ubicacion    ┆ Service Desk ┆ Estado  ┆ Fecha        ┆ Fecha        ┆ Fecha       │\n",
       "│ ---          ┆ ---          ┆ ---          ┆ ---     ┆ Creacion     ┆ Termino      ┆ Cierre      │\n",
       "│ str          ┆ str          ┆ str          ┆ str     ┆ ---          ┆ ---          ┆ ---         │\n",
       "│              ┆              ┆              ┆         ┆ date         ┆ date         ┆ date        │\n",
       "╞══════════════╪══════════════╪══════════════╪═════════╪══════════════╪══════════════╪═════════════╡\n",
       "│ WO0000004122 ┆ AREQUIPA -   ┆ Zona Norte   ┆ Cerrado ┆ 2022-06-01   ┆ 2022-06-14   ┆ 2022-06-14  │\n",
       "│ 687          ┆ 215000       ┆              ┆         ┆              ┆              ┆             │\n",
       "│ WO0000004122 ┆ METRO AV.    ┆ Zona Centro  ┆ Cerrado ┆ 2022-06-01   ┆ 2022-06-17   ┆ 2022-06-17  │\n",
       "│ 649          ┆ WIESSE -     ┆              ┆         ┆              ┆              ┆             │\n",
       "│              ┆ 191106       ┆              ┆         ┆              ┆              ┆             │\n",
       "│ WO0000004122 ┆ NICOLAS      ┆ Zona Centro  ┆ Cerrado ┆ 2022-06-01   ┆ 2022-06-08   ┆ 2022-06-08  │\n",
       "│ 502          ┆ AYLLON -     ┆              ┆         ┆              ┆              ┆             │\n",
       "│              ┆ 191027       ┆              ┆         ┆              ┆              ┆             │\n",
       "│ WO0000004122 ┆ JAUREGUI -   ┆ Zona Norte   ┆ Cerrado ┆ 2022-06-01   ┆ 2022-06-18   ┆ 2022-06-18  │\n",
       "│ 513          ┆ 405005       ┆              ┆         ┆              ┆              ┆             │\n",
       "│ WO0000004122 ┆ CANTO GRANDE ┆ Zona Centro  ┆ Cerrado ┆ 2022-06-01   ┆ 2022-06-08   ┆ 2022-06-08  │\n",
       "│ 741          ┆ - 191096     ┆              ┆         ┆              ┆              ┆             │\n",
       "└──────────────┴──────────────┴──────────────┴─────────┴──────────────┴──────────────┴─────────────┘"
      ]
     },
     "execution_count": 58,
     "metadata": {},
     "output_type": "execute_result"
    }
   ],
   "source": [
    "# Renombrando la columna “Numero Ticket” por “TicketID”\n",
    "historico=historico.rename({'Numero Ticket':'TicketID'})\n",
    "historico.head()"
   ]
  },
  {
   "cell_type": "code",
   "execution_count": 59,
   "metadata": {},
   "outputs": [
    {
     "data": {
      "text/html": [
       "<div><style>\n",
       ".dataframe > thead > tr,\n",
       ".dataframe > tbody > tr {\n",
       "  text-align: right;\n",
       "  white-space: pre-wrap;\n",
       "}\n",
       "</style>\n",
       "<small>shape: (5, 7)</small><table border=\"1\" class=\"dataframe\"><thead><tr><th>Numero Ticket</th><th>Ubicacion</th><th>Service Desk</th><th>Estado</th><th>Fecha Creacion</th><th>Fecha Termino</th><th>Fecha Cierre</th></tr><tr><td>str</td><td>str</td><td>str</td><td>str</td><td>str</td><td>str</td><td>str</td></tr></thead><tbody><tr><td>&quot;WO0000004853311&quot;</td><td>&quot;TUPAC AMARU - 191038&quot;</td><td>&quot;Zona Centro&quot;</td><td>&quot;Cerrado&quot;</td><td>&quot;2023-01-02&quot;</td><td>&quot;10/01/2023&quot;</td><td>&quot;13/01/2023&quot;</td></tr><tr><td>&quot;WO0000004852942&quot;</td><td>&quot;SAN JUAN DE LURIGANCHO - 19101…</td><td>&quot;Zona Centro&quot;</td><td>&quot;Cerrado&quot;</td><td>&quot;2023-01-02&quot;</td><td>&quot;2/01/2023&quot;</td><td>&quot;5/01/2023&quot;</td></tr><tr><td>&quot;WO0000004852621&quot;</td><td>&quot;MARIANO MELGAR - 215014&quot;</td><td>&quot;Zona Norte&quot;</td><td>&quot;Cerrado&quot;</td><td>&quot;2023-01-02&quot;</td><td>&quot;6/01/2023&quot;</td><td>&quot;9/01/2023&quot;</td></tr><tr><td>&quot;SA0000004853328&quot;</td><td>&quot;ANDAHUAYLAS - 205000&quot;</td><td>&quot;Zona Norte&quot;</td><td>&quot;Cerrado&quot;</td><td>&quot;2023-01-02&quot;</td><td>&quot;7/01/2023&quot;</td><td>&quot;10/01/2023&quot;</td></tr><tr><td>&quot;SA0000004853160&quot;</td><td>&quot;COLLIQUE - 191065&quot;</td><td>&quot;Zona Centro&quot;</td><td>&quot;Cerrado&quot;</td><td>&quot;2023-01-02&quot;</td><td>&quot;4/01/2023&quot;</td><td>&quot;7/01/2023&quot;</td></tr></tbody></table></div>"
      ],
      "text/plain": [
       "shape: (5, 7)\n",
       "┌──────────────┬──────────────┬──────────────┬─────────┬──────────────┬──────────────┬─────────────┐\n",
       "│ Numero       ┆ Ubicacion    ┆ Service Desk ┆ Estado  ┆ Fecha        ┆ Fecha        ┆ Fecha       │\n",
       "│ Ticket       ┆ ---          ┆ ---          ┆ ---     ┆ Creacion     ┆ Termino      ┆ Cierre      │\n",
       "│ ---          ┆ str          ┆ str          ┆ str     ┆ ---          ┆ ---          ┆ ---         │\n",
       "│ str          ┆              ┆              ┆         ┆ str          ┆ str          ┆ str         │\n",
       "╞══════════════╪══════════════╪══════════════╪═════════╪══════════════╪══════════════╪═════════════╡\n",
       "│ WO0000004853 ┆ TUPAC AMARU  ┆ Zona Centro  ┆ Cerrado ┆ 2023-01-02   ┆ 10/01/2023   ┆ 13/01/2023  │\n",
       "│ 311          ┆ - 191038     ┆              ┆         ┆              ┆              ┆             │\n",
       "│ WO0000004852 ┆ SAN JUAN DE  ┆ Zona Centro  ┆ Cerrado ┆ 2023-01-02   ┆ 2/01/2023    ┆ 5/01/2023   │\n",
       "│ 942          ┆ LURIGANCHO - ┆              ┆         ┆              ┆              ┆             │\n",
       "│              ┆ 19101…       ┆              ┆         ┆              ┆              ┆             │\n",
       "│ WO0000004852 ┆ MARIANO      ┆ Zona Norte   ┆ Cerrado ┆ 2023-01-02   ┆ 6/01/2023    ┆ 9/01/2023   │\n",
       "│ 621          ┆ MELGAR -     ┆              ┆         ┆              ┆              ┆             │\n",
       "│              ┆ 215014       ┆              ┆         ┆              ┆              ┆             │\n",
       "│ SA0000004853 ┆ ANDAHUAYLAS  ┆ Zona Norte   ┆ Cerrado ┆ 2023-01-02   ┆ 7/01/2023    ┆ 10/01/2023  │\n",
       "│ 328          ┆ - 205000     ┆              ┆         ┆              ┆              ┆             │\n",
       "│ SA0000004853 ┆ COLLIQUE -   ┆ Zona Centro  ┆ Cerrado ┆ 2023-01-02   ┆ 4/01/2023    ┆ 7/01/2023   │\n",
       "│ 160          ┆ 191065       ┆              ┆         ┆              ┆              ┆             │\n",
       "└──────────────┴──────────────┴──────────────┴─────────┴──────────────┴──────────────┴─────────────┘"
      ]
     },
     "execution_count": 59,
     "metadata": {},
     "output_type": "execute_result"
    }
   ],
   "source": [
    "#Importando la base “Tickets Actual.txt”\n",
    "actual= pl.read_csv(\n",
    "    source= './Tickets/Tickets Actual.csv',\n",
    "    separator='|',\n",
    "    columns= [ 'Numero Ticket', 'Ubicacion', 'Service Desk', 'Estado', 'Fecha Creacion', 'Fecha Termino', 'Fecha Cierre']\n",
    "   )\n",
    "actual.head()"
   ]
  },
  {
   "cell_type": "code",
   "execution_count": 60,
   "metadata": {},
   "outputs": [
    {
     "data": {
      "text/html": [
       "<div><style>\n",
       ".dataframe > thead > tr,\n",
       ".dataframe > tbody > tr {\n",
       "  text-align: right;\n",
       "  white-space: pre-wrap;\n",
       "}\n",
       "</style>\n",
       "<small>shape: (5, 7)</small><table border=\"1\" class=\"dataframe\"><thead><tr><th>TicketID</th><th>Ubicacion</th><th>Service Desk</th><th>Estado</th><th>Fecha Creacion</th><th>Fecha Termino</th><th>Fecha Cierre</th></tr><tr><td>str</td><td>str</td><td>str</td><td>str</td><td>date</td><td>date</td><td>date</td></tr></thead><tbody><tr><td>&quot;WO0000004853311&quot;</td><td>&quot;TUPAC AMARU - 191038&quot;</td><td>&quot;Zona Centro&quot;</td><td>&quot;Cerrado&quot;</td><td>2023-01-02</td><td>2023-01-10</td><td>2023-01-13</td></tr><tr><td>&quot;WO0000004852942&quot;</td><td>&quot;SAN JUAN DE LURIGANCHO - 19101…</td><td>&quot;Zona Centro&quot;</td><td>&quot;Cerrado&quot;</td><td>2023-01-02</td><td>2023-01-02</td><td>2023-01-05</td></tr><tr><td>&quot;WO0000004852621&quot;</td><td>&quot;MARIANO MELGAR - 215014&quot;</td><td>&quot;Zona Norte&quot;</td><td>&quot;Cerrado&quot;</td><td>2023-01-02</td><td>2023-01-06</td><td>2023-01-09</td></tr><tr><td>&quot;SA0000004853328&quot;</td><td>&quot;ANDAHUAYLAS - 205000&quot;</td><td>&quot;Zona Norte&quot;</td><td>&quot;Cerrado&quot;</td><td>2023-01-02</td><td>2023-01-07</td><td>2023-01-10</td></tr><tr><td>&quot;SA0000004853160&quot;</td><td>&quot;COLLIQUE - 191065&quot;</td><td>&quot;Zona Centro&quot;</td><td>&quot;Cerrado&quot;</td><td>2023-01-02</td><td>2023-01-04</td><td>2023-01-07</td></tr></tbody></table></div>"
      ],
      "text/plain": [
       "shape: (5, 7)\n",
       "┌──────────────┬──────────────┬──────────────┬─────────┬──────────────┬──────────────┬─────────────┐\n",
       "│ TicketID     ┆ Ubicacion    ┆ Service Desk ┆ Estado  ┆ Fecha        ┆ Fecha        ┆ Fecha       │\n",
       "│ ---          ┆ ---          ┆ ---          ┆ ---     ┆ Creacion     ┆ Termino      ┆ Cierre      │\n",
       "│ str          ┆ str          ┆ str          ┆ str     ┆ ---          ┆ ---          ┆ ---         │\n",
       "│              ┆              ┆              ┆         ┆ date         ┆ date         ┆ date        │\n",
       "╞══════════════╪══════════════╪══════════════╪═════════╪══════════════╪══════════════╪═════════════╡\n",
       "│ WO0000004853 ┆ TUPAC AMARU  ┆ Zona Centro  ┆ Cerrado ┆ 2023-01-02   ┆ 2023-01-10   ┆ 2023-01-13  │\n",
       "│ 311          ┆ - 191038     ┆              ┆         ┆              ┆              ┆             │\n",
       "│ WO0000004852 ┆ SAN JUAN DE  ┆ Zona Centro  ┆ Cerrado ┆ 2023-01-02   ┆ 2023-01-02   ┆ 2023-01-05  │\n",
       "│ 942          ┆ LURIGANCHO - ┆              ┆         ┆              ┆              ┆             │\n",
       "│              ┆ 19101…       ┆              ┆         ┆              ┆              ┆             │\n",
       "│ WO0000004852 ┆ MARIANO      ┆ Zona Norte   ┆ Cerrado ┆ 2023-01-02   ┆ 2023-01-06   ┆ 2023-01-09  │\n",
       "│ 621          ┆ MELGAR -     ┆              ┆         ┆              ┆              ┆             │\n",
       "│              ┆ 215014       ┆              ┆         ┆              ┆              ┆             │\n",
       "│ SA0000004853 ┆ ANDAHUAYLAS  ┆ Zona Norte   ┆ Cerrado ┆ 2023-01-02   ┆ 2023-01-07   ┆ 2023-01-10  │\n",
       "│ 328          ┆ - 205000     ┆              ┆         ┆              ┆              ┆             │\n",
       "│ SA0000004853 ┆ COLLIQUE -   ┆ Zona Centro  ┆ Cerrado ┆ 2023-01-02   ┆ 2023-01-04   ┆ 2023-01-07  │\n",
       "│ 160          ┆ 191065       ┆              ┆         ┆              ┆              ┆             │\n",
       "└──────────────┴──────────────┴──────────────┴─────────┴──────────────┴──────────────┴─────────────┘"
      ]
     },
     "execution_count": 60,
     "metadata": {},
     "output_type": "execute_result"
    }
   ],
   "source": [
    "# Renombrando la columna “Numero Ticket” por “TicketID” y asignando el tipo de dato fecha a las columnas Fecha Creacion, Fecha Termino y \n",
    "#Fecha Cierre\n",
    "actual = actual.select(\n",
    "    pl.col('Numero Ticket').alias(\"TicketID\"),\n",
    "    pl.col(['Ubicacion', 'Service Desk', 'Estado']),\n",
    "    pl.col('Fecha Creacion').str.to_date(\"%Y-%m-%d\"),\n",
    "    pl.col('Fecha Termino').str.to_date(\"%d/%m/%Y\"),\n",
    "    pl.col('Fecha Cierre').str.to_date(\"%d/%m/%Y\")  \n",
    ")\n",
    "actual.head()"
   ]
  },
  {
   "cell_type": "code",
   "execution_count": 61,
   "metadata": {},
   "outputs": [
    {
     "data": {
      "text/html": [
       "<div><style>\n",
       ".dataframe > thead > tr,\n",
       ".dataframe > tbody > tr {\n",
       "  text-align: right;\n",
       "  white-space: pre-wrap;\n",
       "}\n",
       "</style>\n",
       "<small>shape: (5, 7)</small><table border=\"1\" class=\"dataframe\"><thead><tr><th>TicketID</th><th>Ubicacion</th><th>Service Desk</th><th>Estado</th><th>Fecha Creacion</th><th>Fecha Termino</th><th>Fecha Cierre</th></tr><tr><td>str</td><td>str</td><td>str</td><td>str</td><td>date</td><td>date</td><td>date</td></tr></thead><tbody><tr><td>&quot;WO0000004853311&quot;</td><td>&quot;TUPAC AMARU - 191038&quot;</td><td>&quot;Zona Centro&quot;</td><td>&quot;Cerrado&quot;</td><td>2023-01-02</td><td>2023-01-10</td><td>2023-01-13</td></tr><tr><td>&quot;WO0000004852942&quot;</td><td>&quot;SAN JUAN DE LURIGANCHO - 19101…</td><td>&quot;Zona Centro&quot;</td><td>&quot;Cerrado&quot;</td><td>2023-01-02</td><td>2023-01-02</td><td>2023-01-05</td></tr><tr><td>&quot;WO0000004852621&quot;</td><td>&quot;MARIANO MELGAR - 215014&quot;</td><td>&quot;Zona Norte&quot;</td><td>&quot;Cerrado&quot;</td><td>2023-01-02</td><td>2023-01-06</td><td>2023-01-09</td></tr><tr><td>&quot;WO0000004853328&quot;</td><td>&quot;ANDAHUAYLAS - 205000&quot;</td><td>&quot;Zona Norte&quot;</td><td>&quot;Cerrado&quot;</td><td>2023-01-02</td><td>2023-01-07</td><td>2023-01-10</td></tr><tr><td>&quot;WO0000004853160&quot;</td><td>&quot;COLLIQUE - 191065&quot;</td><td>&quot;Zona Centro&quot;</td><td>&quot;Cerrado&quot;</td><td>2023-01-02</td><td>2023-01-04</td><td>2023-01-07</td></tr></tbody></table></div>"
      ],
      "text/plain": [
       "shape: (5, 7)\n",
       "┌──────────────┬──────────────┬──────────────┬─────────┬──────────────┬──────────────┬─────────────┐\n",
       "│ TicketID     ┆ Ubicacion    ┆ Service Desk ┆ Estado  ┆ Fecha        ┆ Fecha        ┆ Fecha       │\n",
       "│ ---          ┆ ---          ┆ ---          ┆ ---     ┆ Creacion     ┆ Termino      ┆ Cierre      │\n",
       "│ str          ┆ str          ┆ str          ┆ str     ┆ ---          ┆ ---          ┆ ---         │\n",
       "│              ┆              ┆              ┆         ┆ date         ┆ date         ┆ date        │\n",
       "╞══════════════╪══════════════╪══════════════╪═════════╪══════════════╪══════════════╪═════════════╡\n",
       "│ WO0000004853 ┆ TUPAC AMARU  ┆ Zona Centro  ┆ Cerrado ┆ 2023-01-02   ┆ 2023-01-10   ┆ 2023-01-13  │\n",
       "│ 311          ┆ - 191038     ┆              ┆         ┆              ┆              ┆             │\n",
       "│ WO0000004852 ┆ SAN JUAN DE  ┆ Zona Centro  ┆ Cerrado ┆ 2023-01-02   ┆ 2023-01-02   ┆ 2023-01-05  │\n",
       "│ 942          ┆ LURIGANCHO - ┆              ┆         ┆              ┆              ┆             │\n",
       "│              ┆ 19101…       ┆              ┆         ┆              ┆              ┆             │\n",
       "│ WO0000004852 ┆ MARIANO      ┆ Zona Norte   ┆ Cerrado ┆ 2023-01-02   ┆ 2023-01-06   ┆ 2023-01-09  │\n",
       "│ 621          ┆ MELGAR -     ┆              ┆         ┆              ┆              ┆             │\n",
       "│              ┆ 215014       ┆              ┆         ┆              ┆              ┆             │\n",
       "│ WO0000004853 ┆ ANDAHUAYLAS  ┆ Zona Norte   ┆ Cerrado ┆ 2023-01-02   ┆ 2023-01-07   ┆ 2023-01-10  │\n",
       "│ 328          ┆ - 205000     ┆              ┆         ┆              ┆              ┆             │\n",
       "│ WO0000004853 ┆ COLLIQUE -   ┆ Zona Centro  ┆ Cerrado ┆ 2023-01-02   ┆ 2023-01-04   ┆ 2023-01-07  │\n",
       "│ 160          ┆ 191065       ┆              ┆         ┆              ┆              ┆             │\n",
       "└──────────────┴──────────────┴──────────────┴─────────┴──────────────┴──────────────┴─────────────┘"
      ]
     },
     "execution_count": 61,
     "metadata": {},
     "output_type": "execute_result"
    }
   ],
   "source": [
    "# Filtrando la base actual de tal manera que solo se mantengan aquellos registros \n",
    "# donde el TicketID inicia con WO.\n",
    "actual=actual.filter(\n",
    "    pl.col('TicketID').str.starts_with('WO')\n",
    ")\n",
    "actual.head()"
   ]
  },
  {
   "cell_type": "code",
   "execution_count": 19,
   "metadata": {},
   "outputs": [],
   "source": [
    "#actual.tail(20)"
   ]
  },
  {
   "cell_type": "code",
   "execution_count": 62,
   "metadata": {},
   "outputs": [
    {
     "data": {
      "text/html": [
       "<div><style>\n",
       ".dataframe > thead > tr,\n",
       ".dataframe > tbody > tr {\n",
       "  text-align: right;\n",
       "  white-space: pre-wrap;\n",
       "}\n",
       "</style>\n",
       "<small>shape: (5, 7)</small><table border=\"1\" class=\"dataframe\"><thead><tr><th>TicketID</th><th>Ubicacion</th><th>Service Desk</th><th>Estado</th><th>Fecha Creacion</th><th>Fecha Termino</th><th>Fecha Cierre</th></tr><tr><td>str</td><td>str</td><td>str</td><td>str</td><td>date</td><td>date</td><td>date</td></tr></thead><tbody><tr><td>&quot;WO0000004122687&quot;</td><td>&quot;AREQUIPA - 215000&quot;</td><td>&quot;Zona Norte&quot;</td><td>&quot;Cerrado&quot;</td><td>2022-06-01</td><td>2022-06-14</td><td>2022-06-14</td></tr><tr><td>&quot;WO0000004122649&quot;</td><td>&quot;METRO AV. WIESSE - 191106&quot;</td><td>&quot;Zona Centro&quot;</td><td>&quot;Cerrado&quot;</td><td>2022-06-01</td><td>2022-06-17</td><td>2022-06-17</td></tr><tr><td>&quot;WO0000004122502&quot;</td><td>&quot;NICOLAS AYLLON - 191027&quot;</td><td>&quot;Zona Centro&quot;</td><td>&quot;Cerrado&quot;</td><td>2022-06-01</td><td>2022-06-08</td><td>2022-06-08</td></tr><tr><td>&quot;WO0000004122513&quot;</td><td>&quot;JAUREGUI - 405005&quot;</td><td>&quot;Zona Norte&quot;</td><td>&quot;Cerrado&quot;</td><td>2022-06-01</td><td>2022-06-18</td><td>2022-06-18</td></tr><tr><td>&quot;WO0000004122741&quot;</td><td>&quot;CANTO GRANDE - 191096&quot;</td><td>&quot;Zona Centro&quot;</td><td>&quot;Cerrado&quot;</td><td>2022-06-01</td><td>2022-06-08</td><td>2022-06-08</td></tr></tbody></table></div>"
      ],
      "text/plain": [
       "shape: (5, 7)\n",
       "┌──────────────┬──────────────┬──────────────┬─────────┬──────────────┬──────────────┬─────────────┐\n",
       "│ TicketID     ┆ Ubicacion    ┆ Service Desk ┆ Estado  ┆ Fecha        ┆ Fecha        ┆ Fecha       │\n",
       "│ ---          ┆ ---          ┆ ---          ┆ ---     ┆ Creacion     ┆ Termino      ┆ Cierre      │\n",
       "│ str          ┆ str          ┆ str          ┆ str     ┆ ---          ┆ ---          ┆ ---         │\n",
       "│              ┆              ┆              ┆         ┆ date         ┆ date         ┆ date        │\n",
       "╞══════════════╪══════════════╪══════════════╪═════════╪══════════════╪══════════════╪═════════════╡\n",
       "│ WO0000004122 ┆ AREQUIPA -   ┆ Zona Norte   ┆ Cerrado ┆ 2022-06-01   ┆ 2022-06-14   ┆ 2022-06-14  │\n",
       "│ 687          ┆ 215000       ┆              ┆         ┆              ┆              ┆             │\n",
       "│ WO0000004122 ┆ METRO AV.    ┆ Zona Centro  ┆ Cerrado ┆ 2022-06-01   ┆ 2022-06-17   ┆ 2022-06-17  │\n",
       "│ 649          ┆ WIESSE -     ┆              ┆         ┆              ┆              ┆             │\n",
       "│              ┆ 191106       ┆              ┆         ┆              ┆              ┆             │\n",
       "│ WO0000004122 ┆ NICOLAS      ┆ Zona Centro  ┆ Cerrado ┆ 2022-06-01   ┆ 2022-06-08   ┆ 2022-06-08  │\n",
       "│ 502          ┆ AYLLON -     ┆              ┆         ┆              ┆              ┆             │\n",
       "│              ┆ 191027       ┆              ┆         ┆              ┆              ┆             │\n",
       "│ WO0000004122 ┆ JAUREGUI -   ┆ Zona Norte   ┆ Cerrado ┆ 2022-06-01   ┆ 2022-06-18   ┆ 2022-06-18  │\n",
       "│ 513          ┆ 405005       ┆              ┆         ┆              ┆              ┆             │\n",
       "│ WO0000004122 ┆ CANTO GRANDE ┆ Zona Centro  ┆ Cerrado ┆ 2022-06-01   ┆ 2022-06-08   ┆ 2022-06-08  │\n",
       "│ 741          ┆ - 191096     ┆              ┆         ┆              ┆              ┆             │\n",
       "└──────────────┴──────────────┴──────────────┴─────────┴──────────────┴──────────────┴─────────────┘"
      ]
     },
     "execution_count": 62,
     "metadata": {},
     "output_type": "execute_result"
    }
   ],
   "source": [
    "# concatenando la base histórica y la base actual con el fin de crear un \n",
    "# dataframe único llamado Ticket\n",
    "\n",
    "tickets = pl.concat([historico, actual], how='vertical')\n",
    "tickets.head()"
   ]
  },
  {
   "cell_type": "code",
   "execution_count": 37,
   "metadata": {},
   "outputs": [
    {
     "data": {
      "text/plain": [
       "(22228, 7)"
      ]
     },
     "execution_count": 37,
     "metadata": {},
     "output_type": "execute_result"
    }
   ],
   "source": [
    "tickets.shape"
   ]
  },
  {
   "cell_type": "code",
   "execution_count": 63,
   "metadata": {},
   "outputs": [
    {
     "data": {
      "text/plain": [
       "(22215, 7)"
      ]
     },
     "execution_count": 63,
     "metadata": {},
     "output_type": "execute_result"
    }
   ],
   "source": [
    "###### SABER SI TENGO DUPLICADOS\n",
    "tickets.unique().shape"
   ]
  },
  {
   "cell_type": "code",
   "execution_count": 64,
   "metadata": {},
   "outputs": [
    {
     "data": {
      "text/html": [
       "<div><style>\n",
       ".dataframe > thead > tr,\n",
       ".dataframe > tbody > tr {\n",
       "  text-align: right;\n",
       "  white-space: pre-wrap;\n",
       "}\n",
       "</style>\n",
       "<small>shape: (26, 7)</small><table border=\"1\" class=\"dataframe\"><thead><tr><th>TicketID</th><th>Ubicacion</th><th>Service Desk</th><th>Estado</th><th>Fecha Creacion</th><th>Fecha Termino</th><th>Fecha Cierre</th></tr><tr><td>str</td><td>str</td><td>str</td><td>str</td><td>date</td><td>date</td><td>date</td></tr></thead><tbody><tr><td>&quot;WO0000004848619&quot;</td><td>&quot;ILO - 385000&quot;</td><td>&quot;Zona Norte&quot;</td><td>&quot;Cerrado&quot;</td><td>2022-12-31</td><td>2023-01-09</td><td>2023-01-12</td></tr><tr><td>&quot;WO0000004848619&quot;</td><td>&quot;ILO - 385000&quot;</td><td>&quot;Zona Norte&quot;</td><td>&quot;Cerrado&quot;</td><td>2022-12-31</td><td>2023-01-09</td><td>2023-01-12</td></tr><tr><td>&quot;WO0000004848638&quot;</td><td>&quot;VILLA SOL - 191059&quot;</td><td>&quot;Zona Centro&quot;</td><td>&quot;Cerrado&quot;</td><td>2022-12-31</td><td>2022-12-31</td><td>2023-01-03</td></tr><tr><td>&quot;WO0000004848638&quot;</td><td>&quot;VILLA SOL - 191059&quot;</td><td>&quot;Zona Centro&quot;</td><td>&quot;Cerrado&quot;</td><td>2022-12-31</td><td>2022-12-31</td><td>2023-01-03</td></tr><tr><td>&quot;WO0000004848654&quot;</td><td>&quot;MERCADO DE FRUTAS - 191064&quot;</td><td>&quot;Zona Centro&quot;</td><td>&quot;Cerrado&quot;</td><td>2022-12-31</td><td>2023-01-13</td><td>2023-01-16</td></tr><tr><td>&hellip;</td><td>&hellip;</td><td>&hellip;</td><td>&hellip;</td><td>&hellip;</td><td>&hellip;</td><td>&hellip;</td></tr><tr><td>&quot;WO0000004849721&quot;</td><td>&quot;LUREN - 380004&quot;</td><td>&quot;Zona Sur&quot;</td><td>&quot;Cerrado&quot;</td><td>2022-12-31</td><td>2023-01-02</td><td>2023-01-05</td></tr><tr><td>&quot;WO0000004849726&quot;</td><td>&quot;LUREN - 380004&quot;</td><td>&quot;Zona Sur&quot;</td><td>&quot;Cerrado&quot;</td><td>2022-12-31</td><td>2023-01-02</td><td>2023-01-05</td></tr><tr><td>&quot;WO0000004849726&quot;</td><td>&quot;LUREN - 380004&quot;</td><td>&quot;Zona Sur&quot;</td><td>&quot;Cerrado&quot;</td><td>2022-12-31</td><td>2023-01-02</td><td>2023-01-05</td></tr><tr><td>&quot;WO0000004849732&quot;</td><td>&quot;EL PINO - 191087&quot;</td><td>&quot;Zona Centro&quot;</td><td>&quot;Cerrado&quot;</td><td>2022-12-31</td><td>2023-01-06</td><td>2023-01-09</td></tr><tr><td>&quot;WO0000004849732&quot;</td><td>&quot;EL PINO - 191087&quot;</td><td>&quot;Zona Centro&quot;</td><td>&quot;Cerrado&quot;</td><td>2022-12-31</td><td>2023-01-06</td><td>2023-01-09</td></tr></tbody></table></div>"
      ],
      "text/plain": [
       "shape: (26, 7)\n",
       "┌──────────────┬──────────────┬──────────────┬─────────┬──────────────┬──────────────┬─────────────┐\n",
       "│ TicketID     ┆ Ubicacion    ┆ Service Desk ┆ Estado  ┆ Fecha        ┆ Fecha        ┆ Fecha       │\n",
       "│ ---          ┆ ---          ┆ ---          ┆ ---     ┆ Creacion     ┆ Termino      ┆ Cierre      │\n",
       "│ str          ┆ str          ┆ str          ┆ str     ┆ ---          ┆ ---          ┆ ---         │\n",
       "│              ┆              ┆              ┆         ┆ date         ┆ date         ┆ date        │\n",
       "╞══════════════╪══════════════╪══════════════╪═════════╪══════════════╪══════════════╪═════════════╡\n",
       "│ WO0000004848 ┆ ILO - 385000 ┆ Zona Norte   ┆ Cerrado ┆ 2022-12-31   ┆ 2023-01-09   ┆ 2023-01-12  │\n",
       "│ 619          ┆              ┆              ┆         ┆              ┆              ┆             │\n",
       "│ WO0000004848 ┆ ILO - 385000 ┆ Zona Norte   ┆ Cerrado ┆ 2022-12-31   ┆ 2023-01-09   ┆ 2023-01-12  │\n",
       "│ 619          ┆              ┆              ┆         ┆              ┆              ┆             │\n",
       "│ WO0000004848 ┆ VILLA SOL -  ┆ Zona Centro  ┆ Cerrado ┆ 2022-12-31   ┆ 2022-12-31   ┆ 2023-01-03  │\n",
       "│ 638          ┆ 191059       ┆              ┆         ┆              ┆              ┆             │\n",
       "│ WO0000004848 ┆ VILLA SOL -  ┆ Zona Centro  ┆ Cerrado ┆ 2022-12-31   ┆ 2022-12-31   ┆ 2023-01-03  │\n",
       "│ 638          ┆ 191059       ┆              ┆         ┆              ┆              ┆             │\n",
       "│ WO0000004848 ┆ MERCADO DE   ┆ Zona Centro  ┆ Cerrado ┆ 2022-12-31   ┆ 2023-01-13   ┆ 2023-01-16  │\n",
       "│ 654          ┆ FRUTAS -     ┆              ┆         ┆              ┆              ┆             │\n",
       "│              ┆ 191064       ┆              ┆         ┆              ┆              ┆             │\n",
       "│ …            ┆ …            ┆ …            ┆ …       ┆ …            ┆ …            ┆ …           │\n",
       "│ WO0000004849 ┆ LUREN -      ┆ Zona Sur     ┆ Cerrado ┆ 2022-12-31   ┆ 2023-01-02   ┆ 2023-01-05  │\n",
       "│ 721          ┆ 380004       ┆              ┆         ┆              ┆              ┆             │\n",
       "│ WO0000004849 ┆ LUREN -      ┆ Zona Sur     ┆ Cerrado ┆ 2022-12-31   ┆ 2023-01-02   ┆ 2023-01-05  │\n",
       "│ 726          ┆ 380004       ┆              ┆         ┆              ┆              ┆             │\n",
       "│ WO0000004849 ┆ LUREN -      ┆ Zona Sur     ┆ Cerrado ┆ 2022-12-31   ┆ 2023-01-02   ┆ 2023-01-05  │\n",
       "│ 726          ┆ 380004       ┆              ┆         ┆              ┆              ┆             │\n",
       "│ WO0000004849 ┆ EL PINO -    ┆ Zona Centro  ┆ Cerrado ┆ 2022-12-31   ┆ 2023-01-06   ┆ 2023-01-09  │\n",
       "│ 732          ┆ 191087       ┆              ┆         ┆              ┆              ┆             │\n",
       "│ WO0000004849 ┆ EL PINO -    ┆ Zona Centro  ┆ Cerrado ┆ 2022-12-31   ┆ 2023-01-06   ┆ 2023-01-09  │\n",
       "│ 732          ┆ 191087       ┆              ┆         ┆              ┆              ┆             │\n",
       "└──────────────┴──────────────┴──────────────┴─────────┴──────────────┴──────────────┴─────────────┘"
      ]
     },
     "execution_count": 64,
     "metadata": {},
     "output_type": "execute_result"
    }
   ],
   "source": [
    "# SABER QUE VALOR DUPLICADOSEXISTEN\n",
    "tickets.filter(\n",
    "    pl.col('TicketID').is_duplicated()\n",
    ").sort(by='TicketID')"
   ]
  },
  {
   "cell_type": "code",
   "execution_count": 65,
   "metadata": {},
   "outputs": [
    {
     "data": {
      "text/plain": [
       "(22215, 7)"
      ]
     },
     "execution_count": 65,
     "metadata": {},
     "output_type": "execute_result"
    }
   ],
   "source": [
    "# ME QUEDO CON LOS VALORES UNICOS, DEPENDIENDO DE LA FECHA\n",
    "# Eliminando los duplicados de la base Tickets en base a la siguiente regla: Si existen \n",
    "#dos registros cuyo TicketID es igual, debe mantenerse aquel registro donde la [Fecha Creacion] sea la más actual\n",
    "tickets = tickets.sort(\n",
    "    by = ['TicketID', 'Fecha Creacion']\n",
    ").unique(\n",
    "    subset= 'TicketID',\n",
    "    keep= 'last',\n",
    "    maintain_order=True\n",
    ")\n",
    "\n",
    "tickets.shape\n"
   ]
  },
  {
   "cell_type": "code",
   "execution_count": 41,
   "metadata": {},
   "outputs": [
    {
     "data": {
      "text/html": [
       "<div><style>\n",
       ".dataframe > thead > tr,\n",
       ".dataframe > tbody > tr {\n",
       "  text-align: right;\n",
       "  white-space: pre-wrap;\n",
       "}\n",
       "</style>\n",
       "<small>shape: (5, 7)</small><table border=\"1\" class=\"dataframe\"><thead><tr><th>TicketID</th><th>Ubicacion</th><th>Service Desk</th><th>Estado</th><th>Fecha Creacion</th><th>Fecha Termino</th><th>Fecha Cierre</th></tr><tr><td>str</td><td>str</td><td>str</td><td>str</td><td>date</td><td>date</td><td>date</td></tr></thead><tbody><tr><td>&quot;OT0000004849379&quot;</td><td>&quot;NAYLAMP - 191143&quot;</td><td>&quot;Zona Centro&quot;</td><td>&quot;Cerrado&quot;</td><td>2022-12-31</td><td>2023-01-25</td><td>2023-01-28</td></tr><tr><td>&quot;OT0000004849382&quot;</td><td>&quot;LOS DAMASCOS - 193038&quot;</td><td>&quot;Zona Sur&quot;</td><td>&quot;Cerrado&quot;</td><td>2022-12-31</td><td>2023-01-04</td><td>2023-01-07</td></tr><tr><td>&quot;OT0000004849726&quot;</td><td>&quot;LUREN - 380004&quot;</td><td>&quot;Zona Sur&quot;</td><td>&quot;Cerrado&quot;</td><td>2022-12-31</td><td>2023-01-02</td><td>2023-01-05</td></tr><tr><td>&quot;OT0000004849732&quot;</td><td>&quot;EL PINO - 191087&quot;</td><td>&quot;Zona Centro&quot;</td><td>&quot;Cerrado&quot;</td><td>2022-12-31</td><td>2023-01-06</td><td>2023-01-09</td></tr><tr><td>&quot;SA0000004849307&quot;</td><td>&quot;TUSILAGOS - 191108&quot;</td><td>&quot;Zona Centro&quot;</td><td>&quot;Rechazado&quot;</td><td>2022-12-31</td><td>null</td><td>null</td></tr></tbody></table></div>"
      ],
      "text/plain": [
       "shape: (5, 7)\n",
       "┌──────────────┬──────────────┬──────────────┬───────────┬─────────────┬─────────────┬─────────────┐\n",
       "│ TicketID     ┆ Ubicacion    ┆ Service Desk ┆ Estado    ┆ Fecha       ┆ Fecha       ┆ Fecha       │\n",
       "│ ---          ┆ ---          ┆ ---          ┆ ---       ┆ Creacion    ┆ Termino     ┆ Cierre      │\n",
       "│ str          ┆ str          ┆ str          ┆ str       ┆ ---         ┆ ---         ┆ ---         │\n",
       "│              ┆              ┆              ┆           ┆ date        ┆ date        ┆ date        │\n",
       "╞══════════════╪══════════════╪══════════════╪═══════════╪═════════════╪═════════════╪═════════════╡\n",
       "│ OT0000004849 ┆ NAYLAMP -    ┆ Zona Centro  ┆ Cerrado   ┆ 2022-12-31  ┆ 2023-01-25  ┆ 2023-01-28  │\n",
       "│ 379          ┆ 191143       ┆              ┆           ┆             ┆             ┆             │\n",
       "│ OT0000004849 ┆ LOS DAMASCOS ┆ Zona Sur     ┆ Cerrado   ┆ 2022-12-31  ┆ 2023-01-04  ┆ 2023-01-07  │\n",
       "│ 382          ┆ - 193038     ┆              ┆           ┆             ┆             ┆             │\n",
       "│ OT0000004849 ┆ LUREN -      ┆ Zona Sur     ┆ Cerrado   ┆ 2022-12-31  ┆ 2023-01-02  ┆ 2023-01-05  │\n",
       "│ 726          ┆ 380004       ┆              ┆           ┆             ┆             ┆             │\n",
       "│ OT0000004849 ┆ EL PINO -    ┆ Zona Centro  ┆ Cerrado   ┆ 2022-12-31  ┆ 2023-01-06  ┆ 2023-01-09  │\n",
       "│ 732          ┆ 191087       ┆              ┆           ┆             ┆             ┆             │\n",
       "│ SA0000004849 ┆ TUSILAGOS -  ┆ Zona Centro  ┆ Rechazado ┆ 2022-12-31  ┆ null        ┆ null        │\n",
       "│ 307          ┆ 191108       ┆              ┆           ┆             ┆             ┆             │\n",
       "└──────────────┴──────────────┴──────────────┴───────────┴─────────────┴─────────────┴─────────────┘"
      ]
     },
     "execution_count": 41,
     "metadata": {},
     "output_type": "execute_result"
    }
   ],
   "source": [
    "tickets.head()"
   ]
  },
  {
   "cell_type": "code",
   "execution_count": 66,
   "metadata": {},
   "outputs": [
    {
     "data": {
      "text/html": [
       "<div><style>\n",
       ".dataframe > thead > tr,\n",
       ".dataframe > tbody > tr {\n",
       "  text-align: right;\n",
       "  white-space: pre-wrap;\n",
       "}\n",
       "</style>\n",
       "<small>shape: (5, 8)</small><table border=\"1\" class=\"dataframe\"><thead><tr><th>TicketID</th><th>Agencia</th><th>AgenciaID</th><th>Service Desk</th><th>Estado</th><th>Fecha Creacion</th><th>Fecha Termino</th><th>Fecha Cierre</th></tr><tr><td>str</td><td>str</td><td>i64</td><td>str</td><td>str</td><td>date</td><td>date</td><td>date</td></tr></thead><tbody><tr><td>&quot;OT0000004849379&quot;</td><td>&quot;NAYLAMP&quot;</td><td>191143</td><td>&quot;Zona Centro&quot;</td><td>&quot;Cerrado&quot;</td><td>2022-12-31</td><td>2023-01-25</td><td>2023-01-28</td></tr><tr><td>&quot;OT0000004849382&quot;</td><td>&quot;LOS DAMASCOS&quot;</td><td>193038</td><td>&quot;Zona Sur&quot;</td><td>&quot;Cerrado&quot;</td><td>2022-12-31</td><td>2023-01-04</td><td>2023-01-07</td></tr><tr><td>&quot;OT0000004849726&quot;</td><td>&quot;LUREN&quot;</td><td>380004</td><td>&quot;Zona Sur&quot;</td><td>&quot;Cerrado&quot;</td><td>2022-12-31</td><td>2023-01-02</td><td>2023-01-05</td></tr><tr><td>&quot;OT0000004849732&quot;</td><td>&quot;EL PINO&quot;</td><td>191087</td><td>&quot;Zona Centro&quot;</td><td>&quot;Cerrado&quot;</td><td>2022-12-31</td><td>2023-01-06</td><td>2023-01-09</td></tr><tr><td>&quot;SA0000004849307&quot;</td><td>&quot;TUSILAGOS&quot;</td><td>191108</td><td>&quot;Zona Centro&quot;</td><td>&quot;Rechazado&quot;</td><td>2022-12-31</td><td>null</td><td>null</td></tr></tbody></table></div>"
      ],
      "text/plain": [
       "shape: (5, 8)\n",
       "┌────────────┬────────────┬───────────┬────────────┬───────────┬───────────┬───────────┬───────────┐\n",
       "│ TicketID   ┆ Agencia    ┆ AgenciaID ┆ Service    ┆ Estado    ┆ Fecha     ┆ Fecha     ┆ Fecha     │\n",
       "│ ---        ┆ ---        ┆ ---       ┆ Desk       ┆ ---       ┆ Creacion  ┆ Termino   ┆ Cierre    │\n",
       "│ str        ┆ str        ┆ i64       ┆ ---        ┆ str       ┆ ---       ┆ ---       ┆ ---       │\n",
       "│            ┆            ┆           ┆ str        ┆           ┆ date      ┆ date      ┆ date      │\n",
       "╞════════════╪════════════╪═══════════╪════════════╪═══════════╪═══════════╪═══════════╪═══════════╡\n",
       "│ OT00000048 ┆ NAYLAMP    ┆ 191143    ┆ Zona       ┆ Cerrado   ┆ 2022-12-3 ┆ 2023-01-2 ┆ 2023-01-2 │\n",
       "│ 49379      ┆            ┆           ┆ Centro     ┆           ┆ 1         ┆ 5         ┆ 8         │\n",
       "│ OT00000048 ┆ LOS        ┆ 193038    ┆ Zona Sur   ┆ Cerrado   ┆ 2022-12-3 ┆ 2023-01-0 ┆ 2023-01-0 │\n",
       "│ 49382      ┆ DAMASCOS   ┆           ┆            ┆           ┆ 1         ┆ 4         ┆ 7         │\n",
       "│ OT00000048 ┆ LUREN      ┆ 380004    ┆ Zona Sur   ┆ Cerrado   ┆ 2022-12-3 ┆ 2023-01-0 ┆ 2023-01-0 │\n",
       "│ 49726      ┆            ┆           ┆            ┆           ┆ 1         ┆ 2         ┆ 5         │\n",
       "│ OT00000048 ┆ EL PINO    ┆ 191087    ┆ Zona       ┆ Cerrado   ┆ 2022-12-3 ┆ 2023-01-0 ┆ 2023-01-0 │\n",
       "│ 49732      ┆            ┆           ┆ Centro     ┆           ┆ 1         ┆ 6         ┆ 9         │\n",
       "│ SA00000048 ┆ TUSILAGOS  ┆ 191108    ┆ Zona       ┆ Rechazado ┆ 2022-12-3 ┆ null      ┆ null      │\n",
       "│ 49307      ┆            ┆           ┆ Centro     ┆           ┆ 1         ┆           ┆           │\n",
       "└────────────┴────────────┴───────────┴────────────┴───────────┴───────────┴───────────┴───────────┘"
      ]
     },
     "execution_count": 66,
     "metadata": {},
     "output_type": "execute_result"
    }
   ],
   "source": [
    " #Dividiendo la columna [Ubicación], en las columnas [Agencia] y [AgenciaID], uso como  delimitador “ - “\n",
    "tickets = tickets.with_columns(\n",
    "    pl.col('Ubicacion').str.split_exact(' - ', 1)\n",
    "    .struct.rename_fields(['Agencia', 'AgenciaID'])\n",
    ").unnest('Ubicacion').cast({\"AgenciaID\":pl.Int64}) # Se separa, asignando el tipo de dato entero a la columna AgenciaID\n",
    "tickets.head()"
   ]
  },
  {
   "cell_type": "code",
   "execution_count": 67,
   "metadata": {},
   "outputs": [
    {
     "data": {
      "text/html": [
       "<div><style>\n",
       ".dataframe > thead > tr,\n",
       ".dataframe > tbody > tr {\n",
       "  text-align: right;\n",
       "  white-space: pre-wrap;\n",
       "}\n",
       "</style>\n",
       "<small>shape: (5, 9)</small><table border=\"1\" class=\"dataframe\"><thead><tr><th>TicketID</th><th>Agencia</th><th>AgenciaID</th><th>Service Desk</th><th>Estado</th><th>Fecha Creacion</th><th>Fecha Termino</th><th>Fecha Cierre</th><th>Fecha Real Fin</th></tr><tr><td>str</td><td>str</td><td>i64</td><td>str</td><td>str</td><td>date</td><td>date</td><td>date</td><td>date</td></tr></thead><tbody><tr><td>&quot;OT0000004849379&quot;</td><td>&quot;NAYLAMP&quot;</td><td>191143</td><td>&quot;Zona Centro&quot;</td><td>&quot;Cerrado&quot;</td><td>2022-12-31</td><td>2023-01-25</td><td>2023-01-28</td><td>2023-01-25</td></tr><tr><td>&quot;OT0000004849382&quot;</td><td>&quot;LOS DAMASCOS&quot;</td><td>193038</td><td>&quot;Zona Sur&quot;</td><td>&quot;Cerrado&quot;</td><td>2022-12-31</td><td>2023-01-04</td><td>2023-01-07</td><td>2023-01-04</td></tr><tr><td>&quot;OT0000004849726&quot;</td><td>&quot;LUREN&quot;</td><td>380004</td><td>&quot;Zona Sur&quot;</td><td>&quot;Cerrado&quot;</td><td>2022-12-31</td><td>2023-01-02</td><td>2023-01-05</td><td>2023-01-02</td></tr><tr><td>&quot;OT0000004849732&quot;</td><td>&quot;EL PINO&quot;</td><td>191087</td><td>&quot;Zona Centro&quot;</td><td>&quot;Cerrado&quot;</td><td>2022-12-31</td><td>2023-01-06</td><td>2023-01-09</td><td>2023-01-06</td></tr><tr><td>&quot;SA0000004849307&quot;</td><td>&quot;TUSILAGOS&quot;</td><td>191108</td><td>&quot;Zona Centro&quot;</td><td>&quot;Rechazado&quot;</td><td>2022-12-31</td><td>null</td><td>null</td><td>null</td></tr></tbody></table></div>"
      ],
      "text/plain": [
       "shape: (5, 9)\n",
       "┌───────────┬───────────┬───────────┬───────────┬───┬───────────┬───────────┬───────────┬──────────┐\n",
       "│ TicketID  ┆ Agencia   ┆ AgenciaID ┆ Service   ┆ … ┆ Fecha     ┆ Fecha     ┆ Fecha     ┆ Fecha    │\n",
       "│ ---       ┆ ---       ┆ ---       ┆ Desk      ┆   ┆ Creacion  ┆ Termino   ┆ Cierre    ┆ Real Fin │\n",
       "│ str       ┆ str       ┆ i64       ┆ ---       ┆   ┆ ---       ┆ ---       ┆ ---       ┆ ---      │\n",
       "│           ┆           ┆           ┆ str       ┆   ┆ date      ┆ date      ┆ date      ┆ date     │\n",
       "╞═══════════╪═══════════╪═══════════╪═══════════╪═══╪═══════════╪═══════════╪═══════════╪══════════╡\n",
       "│ OT0000004 ┆ NAYLAMP   ┆ 191143    ┆ Zona      ┆ … ┆ 2022-12-3 ┆ 2023-01-2 ┆ 2023-01-2 ┆ 2023-01- │\n",
       "│ 849379    ┆           ┆           ┆ Centro    ┆   ┆ 1         ┆ 5         ┆ 8         ┆ 25       │\n",
       "│ OT0000004 ┆ LOS       ┆ 193038    ┆ Zona Sur  ┆ … ┆ 2022-12-3 ┆ 2023-01-0 ┆ 2023-01-0 ┆ 2023-01- │\n",
       "│ 849382    ┆ DAMASCOS  ┆           ┆           ┆   ┆ 1         ┆ 4         ┆ 7         ┆ 04       │\n",
       "│ OT0000004 ┆ LUREN     ┆ 380004    ┆ Zona Sur  ┆ … ┆ 2022-12-3 ┆ 2023-01-0 ┆ 2023-01-0 ┆ 2023-01- │\n",
       "│ 849726    ┆           ┆           ┆           ┆   ┆ 1         ┆ 2         ┆ 5         ┆ 02       │\n",
       "│ OT0000004 ┆ EL PINO   ┆ 191087    ┆ Zona      ┆ … ┆ 2022-12-3 ┆ 2023-01-0 ┆ 2023-01-0 ┆ 2023-01- │\n",
       "│ 849732    ┆           ┆           ┆ Centro    ┆   ┆ 1         ┆ 6         ┆ 9         ┆ 06       │\n",
       "│ SA0000004 ┆ TUSILAGOS ┆ 191108    ┆ Zona      ┆ … ┆ 2022-12-3 ┆ null      ┆ null      ┆ null     │\n",
       "│ 849307    ┆           ┆           ┆ Centro    ┆   ┆ 1         ┆           ┆           ┆          │\n",
       "└───────────┴───────────┴───────────┴───────────┴───┴───────────┴───────────┴───────────┴──────────┘"
      ]
     },
     "execution_count": 67,
     "metadata": {},
     "output_type": "execute_result"
    }
   ],
   "source": [
    "#Creando la columna [Fecha Real Fin] basado en la siguiente regla:\n",
    "#SI [Fecha Termino] es nulo ENTONCES [Fecha Cierre]\n",
    "#SINO [Fecha Termino]\n",
    "#pl.coalesce(), que retorna el primer valor no nulo de una lista de columnas, en este caso, entre Fecha Termino y Fecha Cierre. \n",
    "# Específicamente, si Fecha Termino es nulo, se tomará Fecha Cierre; de lo contrario, se tomará Fecha Termino.\n",
    "tickets = tickets.with_columns(\n",
    "    pl.coalesce(['Fecha Termino', 'Fecha Cierre']).alias('Fecha Real Fin')\n",
    ")\n",
    "tickets.head()"
   ]
  },
  {
   "cell_type": "code",
   "execution_count": 68,
   "metadata": {},
   "outputs": [
    {
     "data": {
      "text/html": [
       "<div><style>\n",
       ".dataframe > thead > tr,\n",
       ".dataframe > tbody > tr {\n",
       "  text-align: right;\n",
       "  white-space: pre-wrap;\n",
       "}\n",
       "</style>\n",
       "<small>shape: (5, 10)</small><table border=\"1\" class=\"dataframe\"><thead><tr><th>TicketID</th><th>Agencia</th><th>AgenciaID</th><th>Service Desk</th><th>Estado</th><th>Fecha Creacion</th><th>Fecha Termino</th><th>Fecha Cierre</th><th>Fecha Real Fin</th><th>Dias Cierre</th></tr><tr><td>str</td><td>str</td><td>i64</td><td>str</td><td>str</td><td>date</td><td>date</td><td>date</td><td>date</td><td>i64</td></tr></thead><tbody><tr><td>&quot;OT0000004849379&quot;</td><td>&quot;NAYLAMP&quot;</td><td>191143</td><td>&quot;Zona Centro&quot;</td><td>&quot;Cerrado&quot;</td><td>2022-12-31</td><td>2023-01-25</td><td>2023-01-28</td><td>2023-01-25</td><td>25</td></tr><tr><td>&quot;OT0000004849382&quot;</td><td>&quot;LOS DAMASCOS&quot;</td><td>193038</td><td>&quot;Zona Sur&quot;</td><td>&quot;Cerrado&quot;</td><td>2022-12-31</td><td>2023-01-04</td><td>2023-01-07</td><td>2023-01-04</td><td>4</td></tr><tr><td>&quot;OT0000004849726&quot;</td><td>&quot;LUREN&quot;</td><td>380004</td><td>&quot;Zona Sur&quot;</td><td>&quot;Cerrado&quot;</td><td>2022-12-31</td><td>2023-01-02</td><td>2023-01-05</td><td>2023-01-02</td><td>2</td></tr><tr><td>&quot;OT0000004849732&quot;</td><td>&quot;EL PINO&quot;</td><td>191087</td><td>&quot;Zona Centro&quot;</td><td>&quot;Cerrado&quot;</td><td>2022-12-31</td><td>2023-01-06</td><td>2023-01-09</td><td>2023-01-06</td><td>6</td></tr><tr><td>&quot;SA0000004849307&quot;</td><td>&quot;TUSILAGOS&quot;</td><td>191108</td><td>&quot;Zona Centro&quot;</td><td>&quot;Rechazado&quot;</td><td>2022-12-31</td><td>null</td><td>null</td><td>null</td><td>null</td></tr></tbody></table></div>"
      ],
      "text/plain": [
       "shape: (5, 10)\n",
       "┌───────────┬───────────┬───────────┬───────────┬───┬───────────┬───────────┬───────────┬──────────┐\n",
       "│ TicketID  ┆ Agencia   ┆ AgenciaID ┆ Service   ┆ … ┆ Fecha     ┆ Fecha     ┆ Fecha     ┆ Dias     │\n",
       "│ ---       ┆ ---       ┆ ---       ┆ Desk      ┆   ┆ Termino   ┆ Cierre    ┆ Real Fin  ┆ Cierre   │\n",
       "│ str       ┆ str       ┆ i64       ┆ ---       ┆   ┆ ---       ┆ ---       ┆ ---       ┆ ---      │\n",
       "│           ┆           ┆           ┆ str       ┆   ┆ date      ┆ date      ┆ date      ┆ i64      │\n",
       "╞═══════════╪═══════════╪═══════════╪═══════════╪═══╪═══════════╪═══════════╪═══════════╪══════════╡\n",
       "│ OT0000004 ┆ NAYLAMP   ┆ 191143    ┆ Zona      ┆ … ┆ 2023-01-2 ┆ 2023-01-2 ┆ 2023-01-2 ┆ 25       │\n",
       "│ 849379    ┆           ┆           ┆ Centro    ┆   ┆ 5         ┆ 8         ┆ 5         ┆          │\n",
       "│ OT0000004 ┆ LOS       ┆ 193038    ┆ Zona Sur  ┆ … ┆ 2023-01-0 ┆ 2023-01-0 ┆ 2023-01-0 ┆ 4        │\n",
       "│ 849382    ┆ DAMASCOS  ┆           ┆           ┆   ┆ 4         ┆ 7         ┆ 4         ┆          │\n",
       "│ OT0000004 ┆ LUREN     ┆ 380004    ┆ Zona Sur  ┆ … ┆ 2023-01-0 ┆ 2023-01-0 ┆ 2023-01-0 ┆ 2        │\n",
       "│ 849726    ┆           ┆           ┆           ┆   ┆ 2         ┆ 5         ┆ 2         ┆          │\n",
       "│ OT0000004 ┆ EL PINO   ┆ 191087    ┆ Zona      ┆ … ┆ 2023-01-0 ┆ 2023-01-0 ┆ 2023-01-0 ┆ 6        │\n",
       "│ 849732    ┆           ┆           ┆ Centro    ┆   ┆ 6         ┆ 9         ┆ 6         ┆          │\n",
       "│ SA0000004 ┆ TUSILAGOS ┆ 191108    ┆ Zona      ┆ … ┆ null      ┆ null      ┆ null      ┆ null     │\n",
       "│ 849307    ┆           ┆           ┆ Centro    ┆   ┆           ┆           ┆           ┆          │\n",
       "└───────────┴───────────┴───────────┴───────────┴───┴───────────┴───────────┴───────────┴──────────┘"
      ]
     },
     "execution_count": 68,
     "metadata": {},
     "output_type": "execute_result"
    }
   ],
   "source": [
    "# Creando la columna [Dias Cierre], la cual es la diferencia en días entre la [Fecha Real Fin] y [Fecha Creacion].\n",
    "tickets = tickets.with_columns(\n",
    "    (pl.col('Fecha Real Fin')-pl.col('Fecha Creacion')).dt.total_days()\n",
    "    .alias('Dias Cierre')\n",
    ")\n",
    "tickets.head()"
   ]
  },
  {
   "cell_type": "code",
   "execution_count": 69,
   "metadata": {},
   "outputs": [
    {
     "data": {
      "text/html": [
       "<div><style>\n",
       ".dataframe > thead > tr,\n",
       ".dataframe > tbody > tr {\n",
       "  text-align: right;\n",
       "  white-space: pre-wrap;\n",
       "}\n",
       "</style>\n",
       "<small>shape: (5, 11)</small><table border=\"1\" class=\"dataframe\"><thead><tr><th>TicketID</th><th>Agencia</th><th>AgenciaID</th><th>Service Desk</th><th>Estado</th><th>Fecha Creacion</th><th>Fecha Termino</th><th>Fecha Cierre</th><th>Fecha Real Fin</th><th>Dias Cierre</th><th>Grupo Dias</th></tr><tr><td>str</td><td>str</td><td>i64</td><td>str</td><td>str</td><td>date</td><td>date</td><td>date</td><td>date</td><td>i64</td><td>str</td></tr></thead><tbody><tr><td>&quot;OT0000004849379&quot;</td><td>&quot;NAYLAMP&quot;</td><td>191143</td><td>&quot;Zona Centro&quot;</td><td>&quot;Cerrado&quot;</td><td>2022-12-31</td><td>2023-01-25</td><td>2023-01-28</td><td>2023-01-25</td><td>25</td><td>&quot;0 a 3 dias&quot;</td></tr><tr><td>&quot;OT0000004849382&quot;</td><td>&quot;LOS DAMASCOS&quot;</td><td>193038</td><td>&quot;Zona Sur&quot;</td><td>&quot;Cerrado&quot;</td><td>2022-12-31</td><td>2023-01-04</td><td>2023-01-07</td><td>2023-01-04</td><td>4</td><td>&quot;3 a 7 dias&quot;</td></tr><tr><td>&quot;OT0000004849726&quot;</td><td>&quot;LUREN&quot;</td><td>380004</td><td>&quot;Zona Sur&quot;</td><td>&quot;Cerrado&quot;</td><td>2022-12-31</td><td>2023-01-02</td><td>2023-01-05</td><td>2023-01-02</td><td>2</td><td>&quot;0 a 3 dias&quot;</td></tr><tr><td>&quot;OT0000004849732&quot;</td><td>&quot;EL PINO&quot;</td><td>191087</td><td>&quot;Zona Centro&quot;</td><td>&quot;Cerrado&quot;</td><td>2022-12-31</td><td>2023-01-06</td><td>2023-01-09</td><td>2023-01-06</td><td>6</td><td>&quot;3 a 7 dias&quot;</td></tr><tr><td>&quot;SA0000004849307&quot;</td><td>&quot;TUSILAGOS&quot;</td><td>191108</td><td>&quot;Zona Centro&quot;</td><td>&quot;Rechazado&quot;</td><td>2022-12-31</td><td>null</td><td>null</td><td>null</td><td>null</td><td>null</td></tr></tbody></table></div>"
      ],
      "text/plain": [
       "shape: (5, 11)\n",
       "┌────────────┬────────────┬────────────┬────────────┬───┬────────────┬────────────┬────────┬───────┐\n",
       "│ TicketID   ┆ Agencia    ┆ AgenciaID  ┆ Service    ┆ … ┆ Fecha      ┆ Fecha Real ┆ Dias   ┆ Grupo │\n",
       "│ ---        ┆ ---        ┆ ---        ┆ Desk       ┆   ┆ Cierre     ┆ Fin        ┆ Cierre ┆ Dias  │\n",
       "│ str        ┆ str        ┆ i64        ┆ ---        ┆   ┆ ---        ┆ ---        ┆ ---    ┆ ---   │\n",
       "│            ┆            ┆            ┆ str        ┆   ┆ date       ┆ date       ┆ i64    ┆ str   │\n",
       "╞════════════╪════════════╪════════════╪════════════╪═══╪════════════╪════════════╪════════╪═══════╡\n",
       "│ OT00000048 ┆ NAYLAMP    ┆ 191143     ┆ Zona       ┆ … ┆ 2023-01-28 ┆ 2023-01-25 ┆ 25     ┆ 0 a 3 │\n",
       "│ 49379      ┆            ┆            ┆ Centro     ┆   ┆            ┆            ┆        ┆ dias  │\n",
       "│ OT00000048 ┆ LOS        ┆ 193038     ┆ Zona Sur   ┆ … ┆ 2023-01-07 ┆ 2023-01-04 ┆ 4      ┆ 3 a 7 │\n",
       "│ 49382      ┆ DAMASCOS   ┆            ┆            ┆   ┆            ┆            ┆        ┆ dias  │\n",
       "│ OT00000048 ┆ LUREN      ┆ 380004     ┆ Zona Sur   ┆ … ┆ 2023-01-05 ┆ 2023-01-02 ┆ 2      ┆ 0 a 3 │\n",
       "│ 49726      ┆            ┆            ┆            ┆   ┆            ┆            ┆        ┆ dias  │\n",
       "│ OT00000048 ┆ EL PINO    ┆ 191087     ┆ Zona       ┆ … ┆ 2023-01-09 ┆ 2023-01-06 ┆ 6      ┆ 3 a 7 │\n",
       "│ 49732      ┆            ┆            ┆ Centro     ┆   ┆            ┆            ┆        ┆ dias  │\n",
       "│ SA00000048 ┆ TUSILAGOS  ┆ 191108     ┆ Zona       ┆ … ┆ null       ┆ null       ┆ null   ┆ null  │\n",
       "│ 49307      ┆            ┆            ┆ Centro     ┆   ┆            ┆            ┆        ┆       │\n",
       "└────────────┴────────────┴────────────┴────────────┴───┴────────────┴────────────┴────────┴───────┘"
      ]
     },
     "execution_count": 69,
     "metadata": {},
     "output_type": "execute_result"
    }
   ],
   "source": [
    "# Creando la columna [Grupo Dias] basado en la siguiente regla:\n",
    "#SI [Dias Cierre] es nulo ENTONCES Nulo\n",
    "#SI [Dias Cierre] <= 3 ENTONCES “0 a 3 días”\n",
    "#SI [Dias Cierre] <= 7 ENTONCES “4 a 7 días”\n",
    "#SI [Dias Cierre] <= 15 ENTONCES “8 a 15 días”\n",
    "#SI [Dias Cierre] > 15 ENTONCES “+15 días”\n",
    "Tickets = tickets.with_columns(\n",
    "    pl.when( pl.col('Dias Cierre').is_null() ).then(None)\n",
    "        .when(pl.col('Dias Cierre') <= 3).then(pl.lit('0 a 3 dias'))\n",
    "        .when(pl.col('Dias Cierre') <= 7).then(pl.lit('3 a 7 dias'))\n",
    "        .when(pl.col('Dias Cierre') <= 15).then(pl.lit('7 a 15 dias'))\n",
    "        .otherwise(pl.lit('0 a 3 dias'))\n",
    "        .alias('Grupo Dias')\n",
    ")\n",
    "Tickets.head()"
   ]
  },
  {
   "cell_type": "markdown",
   "metadata": {},
   "source": [
    "### BASE ATENCIONES\n",
    "#####  Importando los Excel de la carpeta Atenciones, recuerde que la importación se debe realizar de manear masiva. De cada Excel solo se deberá importar las columnas: Numero Ticket, Tipo de Ticket, Proveedor y Costo Atencion; la columna Costo Atencion debe ser de tipo texto.\n",
    "\n"
   ]
  },
  {
   "cell_type": "code",
   "execution_count": 6,
   "metadata": {},
   "outputs": [],
   "source": [
    "from pathlib import Path"
   ]
  },
  {
   "cell_type": "code",
   "execution_count": 34,
   "metadata": {},
   "outputs": [
    {
     "data": {
      "text/plain": [
       "WindowsPath('Atenciones')"
      ]
     },
     "execution_count": 34,
     "metadata": {},
     "output_type": "execute_result"
    }
   ],
   "source": [
    "rutaCarpeta = Path('./Atenciones')\n",
    "rutaCarpeta"
   ]
  },
  {
   "cell_type": "code",
   "execution_count": 35,
   "metadata": {},
   "outputs": [
    {
     "name": "stdout",
     "output_type": "stream",
     "text": [
      "Atenciones Centro.xlsx\n",
      "Atenciones Norte.xlsx\n",
      "Atenciones Sur.xlsx\n"
     ]
    }
   ],
   "source": [
    "#Archivos de la carpeta\n",
    "archivos = list(rutaCarpeta.glob('*.xlsx'))\n",
    "for archivo in archivos:\n",
    "    print(archivo.name)"
   ]
  },
  {
   "cell_type": "code",
   "execution_count": 47,
   "metadata": {},
   "outputs": [],
   "source": [
    "Atenciones = pl.DataFrame()\n",
    "\n",
    "for archivo in archivos:\n",
    "    file = archivo.name\n",
    "    filepath = f'./Atenciones/{file}'\n",
    "\n",
    "    aux_df = pl.read_excel(\n",
    "        source = filepath,\n",
    "        engine= 'xlsx2csv',\n",
    "        read_options= {\n",
    "        \"columns\": [\"Numero Ticket\", \"Tipo de Ticket\", \"Proveedor\", \"Costo Atencion\"],\n",
    "        \"dtypes\": {\"Costo Atencion\": pl.Utf8}\n",
    "        }\n",
    "    )\n",
    "\n",
    "    aux_df = aux_df.with_columns(pl.lit(file).alias('Nombre_Archivo')) # para una constante, pl.lit\n",
    "    Atenciones = pl.concat([Atenciones,aux_df], how= 'vertical')"
   ]
  },
  {
   "cell_type": "code",
   "execution_count": 48,
   "metadata": {},
   "outputs": [
    {
     "data": {
      "text/html": [
       "<div><style>\n",
       ".dataframe > thead > tr,\n",
       ".dataframe > tbody > tr {\n",
       "  text-align: right;\n",
       "  white-space: pre-wrap;\n",
       "}\n",
       "</style>\n",
       "<small>shape: (3, 1)</small><table border=\"1\" class=\"dataframe\"><thead><tr><th>Nombre_Archivo</th></tr><tr><td>str</td></tr></thead><tbody><tr><td>&quot;Atenciones Norte.xlsx&quot;</td></tr><tr><td>&quot;Atenciones Sur.xlsx&quot;</td></tr><tr><td>&quot;Atenciones Centro.xlsx&quot;</td></tr></tbody></table></div>"
      ],
      "text/plain": [
       "shape: (3, 1)\n",
       "┌────────────────────────┐\n",
       "│ Nombre_Archivo         │\n",
       "│ ---                    │\n",
       "│ str                    │\n",
       "╞════════════════════════╡\n",
       "│ Atenciones Norte.xlsx  │\n",
       "│ Atenciones Sur.xlsx    │\n",
       "│ Atenciones Centro.xlsx │\n",
       "└────────────────────────┘"
      ]
     },
     "execution_count": 48,
     "metadata": {},
     "output_type": "execute_result"
    }
   ],
   "source": [
    "Atenciones.select('Nombre_Archivo').unique() # para saber que se ha cargado los 3 archivos"
   ]
  },
  {
   "cell_type": "code",
   "execution_count": 49,
   "metadata": {},
   "outputs": [
    {
     "data": {
      "text/html": [
       "<div><style>\n",
       ".dataframe > thead > tr,\n",
       ".dataframe > tbody > tr {\n",
       "  text-align: right;\n",
       "  white-space: pre-wrap;\n",
       "}\n",
       "</style>\n",
       "<small>shape: (5, 5)</small><table border=\"1\" class=\"dataframe\"><thead><tr><th>Numero Ticket</th><th>Tipo de Ticket</th><th>Proveedor</th><th>Costo Atencion</th><th>Nombre_Archivo</th></tr><tr><td>str</td><td>str</td><td>str</td><td>str</td><td>str</td></tr></thead><tbody><tr><td>&quot;WO0000005584689&quot;</td><td>&quot;Variable&quot;</td><td>&quot;MR EXPRESS&quot;</td><td>null</td><td>&quot;Atenciones Centro.xlsx&quot;</td></tr><tr><td>&quot;WO0000004544943&quot;</td><td>&quot;Rechazado&quot;</td><td>null</td><td>&quot;100&quot;</td><td>&quot;Atenciones Centro.xlsx&quot;</td></tr><tr><td>&quot;WO0000004545246&quot;</td><td>&quot;Rechazado&quot;</td><td>null</td><td>&quot;100&quot;</td><td>&quot;Atenciones Centro.xlsx&quot;</td></tr><tr><td>&quot;WO0000004559125&quot;</td><td>&quot;Rechazado&quot;</td><td>null</td><td>&quot;100&quot;</td><td>&quot;Atenciones Centro.xlsx&quot;</td></tr><tr><td>&quot;WO0000004707477&quot;</td><td>&quot;Rechazado&quot;</td><td>null</td><td>&quot;100&quot;</td><td>&quot;Atenciones Centro.xlsx&quot;</td></tr></tbody></table></div>"
      ],
      "text/plain": [
       "shape: (5, 5)\n",
       "┌─────────────────┬────────────────┬────────────┬────────────────┬────────────────────────┐\n",
       "│ Numero Ticket   ┆ Tipo de Ticket ┆ Proveedor  ┆ Costo Atencion ┆ Nombre_Archivo         │\n",
       "│ ---             ┆ ---            ┆ ---        ┆ ---            ┆ ---                    │\n",
       "│ str             ┆ str            ┆ str        ┆ str            ┆ str                    │\n",
       "╞═════════════════╪════════════════╪════════════╪════════════════╪════════════════════════╡\n",
       "│ WO0000005584689 ┆ Variable       ┆ MR EXPRESS ┆ null           ┆ Atenciones Centro.xlsx │\n",
       "│ WO0000004544943 ┆ Rechazado      ┆ null       ┆ 100            ┆ Atenciones Centro.xlsx │\n",
       "│ WO0000004545246 ┆ Rechazado      ┆ null       ┆ 100            ┆ Atenciones Centro.xlsx │\n",
       "│ WO0000004559125 ┆ Rechazado      ┆ null       ┆ 100            ┆ Atenciones Centro.xlsx │\n",
       "│ WO0000004707477 ┆ Rechazado      ┆ null       ┆ 100            ┆ Atenciones Centro.xlsx │\n",
       "└─────────────────┴────────────────┴────────────┴────────────────┴────────────────────────┘"
      ]
     },
     "execution_count": 49,
     "metadata": {},
     "output_type": "execute_result"
    }
   ],
   "source": [
    "Atenciones.head()"
   ]
  },
  {
   "cell_type": "code",
   "execution_count": 50,
   "metadata": {},
   "outputs": [],
   "source": [
    "Atenciones = Atenciones.select(\n",
    "    pl.col('Numero Ticket').alias('TicketID'),\n",
    "    'Tipo de Ticket', 'Proveedor',\n",
    "    pl.col('Costo Atencion').str.replace(',', '.').str.replace_many(\n",
    "        ['COSTO CERO', 'SIN COSTO'],\n",
    "        \"0\"\n",
    "    )\n",
    ")"
   ]
  },
  {
   "cell_type": "code",
   "execution_count": 51,
   "metadata": {},
   "outputs": [],
   "source": [
    "def texto_a_decimal(valor: str):\n",
    "    try:\n",
    "        return round(float(valor),2)\n",
    "    except:\n",
    "        return None"
   ]
  },
  {
   "cell_type": "code",
   "execution_count": 52,
   "metadata": {},
   "outputs": [
    {
     "data": {
      "text/html": [
       "<div><style>\n",
       ".dataframe > thead > tr,\n",
       ".dataframe > tbody > tr {\n",
       "  text-align: right;\n",
       "  white-space: pre-wrap;\n",
       "}\n",
       "</style>\n",
       "<small>shape: (5, 5)</small><table border=\"1\" class=\"dataframe\"><thead><tr><th>TicketID</th><th>Tipo de Ticket</th><th>Proveedor</th><th>Costo Atencion</th><th>Costo Atencion 2</th></tr><tr><td>str</td><td>str</td><td>str</td><td>str</td><td>f64</td></tr></thead><tbody><tr><td>&quot;WO0000005584689&quot;</td><td>&quot;Variable&quot;</td><td>&quot;MR EXPRESS&quot;</td><td>null</td><td>null</td></tr><tr><td>&quot;WO0000004544943&quot;</td><td>&quot;Rechazado&quot;</td><td>null</td><td>&quot;100&quot;</td><td>100.0</td></tr><tr><td>&quot;WO0000004545246&quot;</td><td>&quot;Rechazado&quot;</td><td>null</td><td>&quot;100&quot;</td><td>100.0</td></tr><tr><td>&quot;WO0000004559125&quot;</td><td>&quot;Rechazado&quot;</td><td>null</td><td>&quot;100&quot;</td><td>100.0</td></tr><tr><td>&quot;WO0000004707477&quot;</td><td>&quot;Rechazado&quot;</td><td>null</td><td>&quot;100&quot;</td><td>100.0</td></tr></tbody></table></div>"
      ],
      "text/plain": [
       "shape: (5, 5)\n",
       "┌─────────────────┬────────────────┬────────────┬────────────────┬──────────────────┐\n",
       "│ TicketID        ┆ Tipo de Ticket ┆ Proveedor  ┆ Costo Atencion ┆ Costo Atencion 2 │\n",
       "│ ---             ┆ ---            ┆ ---        ┆ ---            ┆ ---              │\n",
       "│ str             ┆ str            ┆ str        ┆ str            ┆ f64              │\n",
       "╞═════════════════╪════════════════╪════════════╪════════════════╪══════════════════╡\n",
       "│ WO0000005584689 ┆ Variable       ┆ MR EXPRESS ┆ null           ┆ null             │\n",
       "│ WO0000004544943 ┆ Rechazado      ┆ null       ┆ 100            ┆ 100.0            │\n",
       "│ WO0000004545246 ┆ Rechazado      ┆ null       ┆ 100            ┆ 100.0            │\n",
       "│ WO0000004559125 ┆ Rechazado      ┆ null       ┆ 100            ┆ 100.0            │\n",
       "│ WO0000004707477 ┆ Rechazado      ┆ null       ┆ 100            ┆ 100.0            │\n",
       "└─────────────────┴────────────────┴────────────┴────────────────┴──────────────────┘"
      ]
     },
     "execution_count": 52,
     "metadata": {},
     "output_type": "execute_result"
    }
   ],
   "source": [
    "# Aplicando la funcion\n",
    "Atenciones = Atenciones.with_columns(\n",
    "    pl.col('Costo Atencion').map_elements(texto_a_decimal,return_dtype=float ).alias('Costo Atencion 2')\n",
    ")\n",
    "Atenciones.head()"
   ]
  },
  {
   "cell_type": "code",
   "execution_count": 53,
   "metadata": {},
   "outputs": [
    {
     "name": "stdout",
     "output_type": "stream",
     "text": [
      "['TicketID', 'Tipo de Ticket', 'Proveedor', 'Costo Atencion', 'Costo Atencion 2']\n"
     ]
    }
   ],
   "source": [
    "print(Atenciones.columns)\n"
   ]
  },
  {
   "cell_type": "code",
   "execution_count": 54,
   "metadata": {},
   "outputs": [],
   "source": [
    "# Eliminación de columna original y renombrado\n",
    "Atenciones = Atenciones.drop('Costo Atencion').rename({'Costo Atencion 2': 'Costo Atencion'})"
   ]
  },
  {
   "cell_type": "code",
   "execution_count": 56,
   "metadata": {},
   "outputs": [
    {
     "data": {
      "text/html": [
       "<div><style>\n",
       ".dataframe > thead > tr,\n",
       ".dataframe > tbody > tr {\n",
       "  text-align: right;\n",
       "  white-space: pre-wrap;\n",
       "}\n",
       "</style>\n",
       "<small>shape: (5, 4)</small><table border=\"1\" class=\"dataframe\"><thead><tr><th>TicketID</th><th>Tipo de Ticket</th><th>Proveedor</th><th>Costo Atencion</th></tr><tr><td>str</td><td>str</td><td>str</td><td>f64</td></tr></thead><tbody><tr><td>&quot;WO0000005584689&quot;</td><td>&quot;Variable&quot;</td><td>&quot;MR EXPRESS&quot;</td><td>null</td></tr><tr><td>&quot;WO0000004544943&quot;</td><td>&quot;Rechazado&quot;</td><td>null</td><td>100.0</td></tr><tr><td>&quot;WO0000004545246&quot;</td><td>&quot;Rechazado&quot;</td><td>null</td><td>100.0</td></tr><tr><td>&quot;WO0000004559125&quot;</td><td>&quot;Rechazado&quot;</td><td>null</td><td>100.0</td></tr><tr><td>&quot;WO0000004707477&quot;</td><td>&quot;Rechazado&quot;</td><td>null</td><td>100.0</td></tr></tbody></table></div>"
      ],
      "text/plain": [
       "shape: (5, 4)\n",
       "┌─────────────────┬────────────────┬────────────┬────────────────┐\n",
       "│ TicketID        ┆ Tipo de Ticket ┆ Proveedor  ┆ Costo Atencion │\n",
       "│ ---             ┆ ---            ┆ ---        ┆ ---            │\n",
       "│ str             ┆ str            ┆ str        ┆ f64            │\n",
       "╞═════════════════╪════════════════╪════════════╪════════════════╡\n",
       "│ WO0000005584689 ┆ Variable       ┆ MR EXPRESS ┆ null           │\n",
       "│ WO0000004544943 ┆ Rechazado      ┆ null       ┆ 100.0          │\n",
       "│ WO0000004545246 ┆ Rechazado      ┆ null       ┆ 100.0          │\n",
       "│ WO0000004559125 ┆ Rechazado      ┆ null       ┆ 100.0          │\n",
       "│ WO0000004707477 ┆ Rechazado      ┆ null       ┆ 100.0          │\n",
       "└─────────────────┴────────────────┴────────────┴────────────────┘"
      ]
     },
     "execution_count": 56,
     "metadata": {},
     "output_type": "execute_result"
    }
   ],
   "source": [
    "Atenciones.head()"
   ]
  },
  {
   "cell_type": "markdown",
   "metadata": {},
   "source": [
    "### Combinar y Exportar"
   ]
  },
  {
   "cell_type": "code",
   "execution_count": 82,
   "metadata": {},
   "outputs": [],
   "source": [
    "# Realizando una combinación de tipo Inner Join entre los dataframe Tickets y  Atenciones, usando como columna del match [TicketID].\n",
    "ResuladoFinal = Tickets.join(\n",
    "    Atenciones,\n",
    "    on =  'TicketID',\n",
    "    how = 'inner'\n",
    ").select(\n",
    "    'TicketID',\n",
    "    'Agencia',\n",
    "    'AgenciaID',\n",
    "    'Service Desk',\n",
    "    'Estado',\n",
    "    'Fecha Creacion',\n",
    "    'Grupo Dias',\n",
    "    pl.col('Tipo de Ticket').alias('Tipo Ticket'),\n",
    "    pl.col('Costo Atencion').alias('Costo'),\n",
    "    pl.col('Fecha Real Fin').alias('Fecha Cierre')\n",
    ")"
   ]
  },
  {
   "cell_type": "code",
   "execution_count": 84,
   "metadata": {},
   "outputs": [
    {
     "data": {
      "text/html": [
       "<div><style>\n",
       ".dataframe > thead > tr,\n",
       ".dataframe > tbody > tr {\n",
       "  text-align: right;\n",
       "  white-space: pre-wrap;\n",
       "}\n",
       "</style>\n",
       "<small>shape: (5, 10)</small><table border=\"1\" class=\"dataframe\"><thead><tr><th>TicketID</th><th>Agencia</th><th>AgenciaID</th><th>Service Desk</th><th>Estado</th><th>Fecha Creacion</th><th>Grupo Dias</th><th>Tipo Ticket</th><th>Costo</th><th>Fecha Cierre</th></tr><tr><td>str</td><td>str</td><td>i64</td><td>str</td><td>str</td><td>date</td><td>str</td><td>str</td><td>f64</td><td>date</td></tr></thead><tbody><tr><td>&quot;WO0000005584689&quot;</td><td>&quot;LAS MALVINAS&quot;</td><td>191076</td><td>&quot;Zona Centro&quot;</td><td>&quot;Cerrado&quot;</td><td>2023-09-08</td><td>&quot;7 a 15 dias&quot;</td><td>&quot;Variable&quot;</td><td>null</td><td>2023-09-17</td></tr><tr><td>&quot;WO0000004544943&quot;</td><td>&quot;URB SAN FELIPE COMAS&quot;</td><td>191053</td><td>&quot;Zona Centro&quot;</td><td>&quot;Rechazado&quot;</td><td>2022-10-18</td><td>&quot;0 a 3 dias&quot;</td><td>&quot;Rechazado&quot;</td><td>100.0</td><td>2022-10-18</td></tr><tr><td>&quot;WO0000004545246&quot;</td><td>&quot;PUENTE PIEDRA&quot;</td><td>191035</td><td>&quot;Zona Centro&quot;</td><td>&quot;Rechazado&quot;</td><td>2022-10-18</td><td>&quot;0 a 3 dias&quot;</td><td>&quot;Rechazado&quot;</td><td>100.0</td><td>2022-10-18</td></tr><tr><td>&quot;WO0000004559125&quot;</td><td>&quot;EL PINO&quot;</td><td>191087</td><td>&quot;Zona Centro&quot;</td><td>&quot;Rechazado&quot;</td><td>2022-10-24</td><td>&quot;0 a 3 dias&quot;</td><td>&quot;Rechazado&quot;</td><td>100.0</td><td>2022-10-25</td></tr><tr><td>&quot;WO0000004707477&quot;</td><td>&quot;LAS ALONDRAS&quot;</td><td>191044</td><td>&quot;Zona Centro&quot;</td><td>&quot;Rechazado&quot;</td><td>2022-11-08</td><td>null</td><td>&quot;Rechazado&quot;</td><td>100.0</td><td>null</td></tr></tbody></table></div>"
      ],
      "text/plain": [
       "shape: (5, 10)\n",
       "┌──────────────┬──────────┬───────────┬─────────┬───┬────────┬──────────────┬───────┬──────────────┐\n",
       "│ TicketID     ┆ Agencia  ┆ AgenciaID ┆ Service ┆ … ┆ Grupo  ┆ Tipo Ticket  ┆ Costo ┆ Fecha Cierre │\n",
       "│ ---          ┆ ---      ┆ ---       ┆ Desk    ┆   ┆ Dias   ┆ ---          ┆ ---   ┆ ---          │\n",
       "│ str          ┆ str      ┆ i64       ┆ ---     ┆   ┆ ---    ┆ str          ┆ f64   ┆ date         │\n",
       "│              ┆          ┆           ┆ str     ┆   ┆ str    ┆              ┆       ┆              │\n",
       "╞══════════════╪══════════╪═══════════╪═════════╪═══╪════════╪══════════════╪═══════╪══════════════╡\n",
       "│ WO0000005584 ┆ LAS      ┆ 191076    ┆ Zona    ┆ … ┆ 7 a 15 ┆ Variable     ┆ null  ┆ 2023-09-17   │\n",
       "│ 689          ┆ MALVINAS ┆           ┆ Centro  ┆   ┆ dias   ┆              ┆       ┆              │\n",
       "│ WO0000004544 ┆ URB SAN  ┆ 191053    ┆ Zona    ┆ … ┆ 0 a 3  ┆ Rechazado    ┆ 100.0 ┆ 2022-10-18   │\n",
       "│ 943          ┆ FELIPE   ┆           ┆ Centro  ┆   ┆ dias   ┆              ┆       ┆              │\n",
       "│              ┆ COMAS    ┆           ┆         ┆   ┆        ┆              ┆       ┆              │\n",
       "│ WO0000004545 ┆ PUENTE   ┆ 191035    ┆ Zona    ┆ … ┆ 0 a 3  ┆ Rechazado    ┆ 100.0 ┆ 2022-10-18   │\n",
       "│ 246          ┆ PIEDRA   ┆           ┆ Centro  ┆   ┆ dias   ┆              ┆       ┆              │\n",
       "│ WO0000004559 ┆ EL PINO  ┆ 191087    ┆ Zona    ┆ … ┆ 0 a 3  ┆ Rechazado    ┆ 100.0 ┆ 2022-10-25   │\n",
       "│ 125          ┆          ┆           ┆ Centro  ┆   ┆ dias   ┆              ┆       ┆              │\n",
       "│ WO0000004707 ┆ LAS      ┆ 191044    ┆ Zona    ┆ … ┆ null   ┆ Rechazado    ┆ 100.0 ┆ null         │\n",
       "│ 477          ┆ ALONDRAS ┆           ┆ Centro  ┆   ┆        ┆              ┆       ┆              │\n",
       "└──────────────┴──────────┴───────────┴─────────┴───┴────────┴──────────────┴───────┴──────────────┘"
      ]
     },
     "execution_count": 84,
     "metadata": {},
     "output_type": "execute_result"
    }
   ],
   "source": [
    "ResuladoFinal.head()"
   ]
  },
  {
   "cell_type": "code",
   "execution_count": null,
   "metadata": {},
   "outputs": [],
   "source": [
    "#  Del punto anterior usted deberá extraer solo las columnas: TicketID, AgenciaID, Agencia, Service Desk, Estado, Fecha Creacion, Fecha Real Fin, \n",
    "# Grupo Dias, Tipo de Ticket y Costo Atencion."
   ]
  }
 ],
 "metadata": {
  "kernelspec": {
   "display_name": "GestionAtenciones",
   "language": "python",
   "name": "python3"
  },
  "language_info": {
   "codemirror_mode": {
    "name": "ipython",
    "version": 3
   },
   "file_extension": ".py",
   "mimetype": "text/x-python",
   "name": "python",
   "nbconvert_exporter": "python",
   "pygments_lexer": "ipython3",
   "version": "3.12.4"
  }
 },
 "nbformat": 4,
 "nbformat_minor": 2
}
